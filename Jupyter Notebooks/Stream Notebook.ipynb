{
 "cells": [
  {
   "cell_type": "markdown",
   "id": "61e344cc",
   "metadata": {},
   "source": [
    "## Supporting Code for Verifying the Overlay\n",
    "(Most Code is pulled from the Software implementation)"
   ]
  },
  {
   "cell_type": "code",
   "execution_count": 1,
   "id": "b185aa26",
   "metadata": {},
   "outputs": [],
   "source": [
    "import random\n",
    "import math\n",
    "\n",
    "def gcd(a, b):\n",
    "    while b != 0:\n",
    "        a, b = b, a % b\n",
    "    return a\n",
    "# Function to generate public key\n",
    "def pubKeyGen(p, q):\n",
    "    #define phi with (p,q)\n",
    "    phi = (p-1)*(q-1)\n",
    "    # calculate/return a value for e (public key)\n",
    "    e = 2\n",
    "    while (e < phi):\n",
    "        if(gcd(e, phi) == 1):\n",
    "            break\n",
    "        else:\n",
    "            e=e+1\n",
    "    return e\n",
    "\n",
    "# Functions to generate public/private keys\n",
    "def generate_keypair(prime1, prime2):\n",
    "\n",
    "    n = prime1 * prime2\n",
    "    phi = (prime1 - 1) * (prime2 - 1)\n",
    "\n",
    "    # Generate a public key value e from the primes\n",
    "    e = pubKeyGen(prime1, prime2)\n",
    "\n",
    "    # Compute the private key d.\n",
    "    d = pow(e, -1, phi)\n",
    " \n",
    "    # Return the public and private keypairs\n",
    "    return ((e, n), (d, n))\n",
    "\n",
    "# Function to convert the message to an array of integers.\n",
    "def prepInput(message):\n",
    "    intArrString = [ord(char) for char in message]\n",
    "    return intArrString\n",
    "# Function to reverse the action above and return a string from an array of integers.\n",
    "def convOutput(orgMsg):\n",
    "    stringFrInt = [chr(char) for char in orgMsg]\n",
    "    return ''.join(stringFrInt)\n",
    "\n",
    "def encrypt(message, public_key):\n",
    "\n",
    "    # Unpack the key into its components\n",
    "    e, n = public_key\n",
    "    testWord = [ord(char) for char in message]\n",
    "    print(testWord)\n",
    "    # Convert each letter in the plaintext to numbers based on the character using a^b mod m\n",
    "    cipher = [pow(ord(char), e, n) for char in message]\n",
    "     \n",
    "    # Return the array of bytes\n",
    "    return cipher\n",
    "\n",
    " \n",
    "\n",
    "def decrypt(cipher, private_key):\n",
    "    # Unpack the key into its components\n",
    "    d, n = private_key\n",
    "\n",
    "    # Generate the plaintext based on the ciphertext and key using a^b mod m\n",
    "    message = [chr(pow(char, d, n)) for char in cipher]\n",
    "\n",
    "    # Return the array of bytes as a string\n",
    "    return ''.join(message)\n"
   ]
  },
  {
   "cell_type": "code",
   "execution_count": 2,
   "id": "a1cce0b5",
   "metadata": {},
   "outputs": [
    {
     "name": "stdout",
     "output_type": "stream",
     "text": [
      "[72, 101, 108, 108, 111]\n",
      "Hello\n"
     ]
    }
   ],
   "source": [
    "# Test of converting string to a list of int - Passed!\n",
    "inStr = \"Hello\"\n",
    "inStr = prepInput(inStr)\n",
    "print(inStr)\n",
    "inStr =convOutput(inStr)\n",
    "print(inStr)"
   ]
  },
  {
   "cell_type": "code",
   "execution_count": 3,
   "id": "833ab950",
   "metadata": {},
   "outputs": [
    {
     "name": "stdout",
     "output_type": "stream",
     "text": [
      "[72, 101, 108, 108, 111, 44, 32, 87, 111, 114, 108, 100, 33]\n",
      "Encrypted Values:  [2374081, 634949, 683399, 683399, 4222941, 5390756, 6054897, 2047352, 4222941, 4107156, 683399, 3812635, 469162]\n",
      "Private Key:  (2416153, 6103297)\n",
      "Decrypted Values:  Hello, World!\n"
     ]
    }
   ],
   "source": [
    "# Example test of Encryption/Decryption with Same Keys as HW\n",
    "msg = \"Hello, World!\"\n",
    "public_key = (65537, 6103297) # Public key used for HW with primes 3011 and 2027\n",
    "private_key = (2416153, 6103297) # Private key used for HW\n",
    "encryptArr = encrypt(msg, public_key)\n",
    "print(\"Encrypted Values: \", encryptArr) # Encrypted values should match outcome of overlay below\n",
    "decryptArr = decrypt(encryptArr, private_key)\n",
    "print(\"Private Key: \", private_key)\n",
    "print(\"Decrypted Values: \", decryptArr) # Decrypted value should return the original message"
   ]
  },
  {
   "cell_type": "markdown",
   "id": "b993bbb0",
   "metadata": {},
   "source": [
    "# Overlay Code"
   ]
  },
  {
   "cell_type": "code",
   "execution_count": 19,
   "id": "a3352419",
   "metadata": {},
   "outputs": [],
   "source": [
    "# Implementation Framework for AXI Stream (adapted from HW4 until Bitstream is working)\n",
    "\n",
    "from pynq import Overlay\n",
    "# Bit file from Vivado\n",
    "ol = Overlay('/home/xilinx/pynq/overlays/dma_axis_ip_example.bit')\n",
    "dma = ol.axi_dma\n",
    "dma_send = ol.axi_dma.sendchannel\n",
    "dma_recv = ol.axi_dma.recvchannel\n",
    "\n",
    "hls_ip = ol.encrypt_0 \n",
    "\n",
    "CONTROL_REGISTER = 0x00\n",
    "hls_ip.write(CONTROL_REGISTER, 0x81)\n"
   ]
  },
  {
   "cell_type": "code",
   "execution_count": 20,
   "id": "8ac9f0a8",
   "metadata": {},
   "outputs": [],
   "source": [
    "from pynq import allocate\n",
    "import numpy as np\n",
    "\n",
    "def runKernel(message):\n",
    "# Send to PL for encryption/decryption\n",
    "    input_buffer = allocate(shape=(len(message),), dtype=np.uint32)\n",
    "    input_buffer[:] = [ord(char) for char in message]\n",
    "    dma_send.transfer(input_buffer)\n",
    "    output_buffer = allocate(shape=(len(message),), dtype=np.uint32)\n",
    "    dma_recv.transfer(output_buffer)\n",
    "    dma_send.wait()\n",
    "    dma_recv.wait()\n",
    "    \n",
    "    return output_buffer"
   ]
  },
  {
   "cell_type": "code",
   "execution_count": 21,
   "id": "12e822a5",
   "metadata": {},
   "outputs": [
    {
     "name": "stdout",
     "output_type": "stream",
     "text": [
      "[2374081  634949  683399  683399 4222941 5390756 6054897 2047352 4222941\n",
      " 4107156  683399 3812635  469162]\n",
      "Duration:  0.016942739486694336\n"
     ]
    }
   ],
   "source": [
    "import time\n",
    "# runKernel takes the message you want to encrypt and returns the output_buffer with the encrypted results.\n",
    "message1 = \"Hello, World!\"\n",
    "start = time.time()\n",
    "output_buffer = runKernel(message1)\n",
    "end = time.time()\n",
    "print(output_buffer) # Printed output should match the values from the SW test above.\n",
    "print(\"Duration: \", end - start)"
   ]
  },
  {
   "cell_type": "code",
   "execution_count": 99,
   "id": "632a9f7f",
   "metadata": {},
   "outputs": [
    {
     "data": {
      "text/plain": [
       "'Hello, World!'"
      ]
     },
     "execution_count": 99,
     "metadata": {},
     "output_type": "execute_result"
    }
   ],
   "source": [
    "# Run decryption on the SW function by converting output_buffer to list and perform decrypt\n",
    "cipher_out = output_buffer.tolist()\n",
    "decrypt(cipher_out, private_key)"
   ]
  },
  {
   "cell_type": "markdown",
   "id": "8f013933",
   "metadata": {},
   "source": [
    "## Testing the Encryption with Key Generation Overlay"
   ]
  },
  {
   "cell_type": "code",
   "execution_count": 22,
   "id": "5c781cff",
   "metadata": {},
   "outputs": [],
   "source": [
    "from pynq import Overlay\n",
    "# Bit file from Vivado\n",
    "ol = Overlay('/home/xilinx/pynq/overlays/RSA2/dma_axis_ip_example.bit')\n",
    "dma = ol.axi_dma\n",
    "dma_send = ol.axi_dma.sendchannel\n",
    "dma_recv = ol.axi_dma.recvchannel\n",
    "\n",
    "hls_ip = ol.encrypt_0 \n",
    "\n",
    "CONTROL_REGISTER = 0x00\n",
    "hls_ip.write(CONTROL_REGISTER, 0x81)\n"
   ]
  },
  {
   "cell_type": "code",
   "execution_count": 23,
   "id": "6b47d35e",
   "metadata": {},
   "outputs": [
    {
     "data": {
      "text/plain": [
       "RegisterMap {\n",
       "  prime1 = Register(prime1=write-only),\n",
       "  prime2 = Register(prime2=write-only)\n",
       "}"
      ]
     },
     "execution_count": 23,
     "metadata": {},
     "output_type": "execute_result"
    }
   ],
   "source": [
    "hls_ip.register_map"
   ]
  },
  {
   "cell_type": "code",
   "execution_count": 40,
   "id": "e32cf714",
   "metadata": {},
   "outputs": [],
   "source": [
    "hls_ip.register_map.prime1 = 2027\n",
    "hls_ip.register_map.prime2 = 3011\n",
    "\n"
   ]
  },
  {
   "cell_type": "code",
   "execution_count": 48,
   "id": "e32cd780",
   "metadata": {},
   "outputs": [],
   "source": [
    "from pynq import allocate\n",
    "import numpy as np\n",
    "\n",
    "def runKernel(message):\n",
    "# Send to PL for encryption/decryption\n",
    "    input_buffer = allocate(shape=(len(message),), dtype=np.uint32)\n",
    "    input_buffer[:] = [ord(char) for char in message]\n",
    "    dma_send.transfer(input_buffer)\n",
    "    output_buffer[:] = allocate(shape=(len(message),), dtype=np.uint32)\n",
    "    dma_recv.transfer(output_buffer)\n",
    "    dma_send.wait()\n",
    "    dma_recv.wait()\n",
    "    \n",
    "    return output_buffer"
   ]
  },
  {
   "cell_type": "code",
   "execution_count": 73,
   "id": "b8dcb695",
   "metadata": {},
   "outputs": [
    {
     "name": "stdout",
     "output_type": "stream",
     "text": [
      "[72, 101, 108, 108, 111, 44, 32, 87, 111, 114, 108, 100]\n",
      "[2374081, 634949, 683399, 683399, 4222941, 5390756, 6054897, 2047352, 4222941, 4107156, 683399, 3812635]\n",
      "[2374081  634949  683399  683399 4222941 5390756 6054897 2047352 4222941\n",
      " 4107156  683399 3812635]\n",
      "Duration:  0.019195079803466797\n"
     ]
    }
   ],
   "source": [
    "import time\n",
    "msg = \"Hello, World\"\n",
    "# Get the encrypted Array and pass to runKernel to test\n",
    "public_key = (65537, 6103297)\n",
    "encrArr = encrypt(msg, public_key)\n",
    "print(encrArr)\n",
    "\n",
    "start = time.time()\n",
    "output = runKernel(msg)\n",
    "\n",
    "end = time.time()\n",
    "\n",
    "print(output)\n",
    "print(\"Duration: \", end - start)\n",
    "# if results match, the overlay works - PASSED"
   ]
  },
  {
   "cell_type": "markdown",
   "id": "4a3dfdba",
   "metadata": {},
   "source": [
    "## Overlay with Encrypt and Decrypt Functionality\n",
    "Added a boolean axi stream variable to determine if the function is encrypting or decrypting"
   ]
  },
  {
   "cell_type": "code",
   "execution_count": 68,
   "id": "b9f127a5",
   "metadata": {},
   "outputs": [],
   "source": [
    "from pynq import Overlay\n",
    "# Bit file from Vivado\n",
    "ol = Overlay('/home/xilinx/pynq/overlays/RSA3/dma_axis_ip_example.bit')\n",
    "dma = ol.axi_dma\n",
    "dma_send = ol.axi_dma.sendchannel\n",
    "dma_recv = ol.axi_dma.recvchannel\n",
    "\n",
    "hls_ip = ol.encrypt_0 \n",
    "\n",
    "CONTROL_REGISTER = 0x00\n",
    "hls_ip.write(CONTROL_REGISTER, 0x81)\n"
   ]
  },
  {
   "cell_type": "code",
   "execution_count": 69,
   "id": "c7700d5b",
   "metadata": {},
   "outputs": [
    {
     "data": {
      "text/plain": [
       "RegisterMap {\n",
       "  prime1 = Register(prime1=write-only),\n",
       "  prime2 = Register(prime2=write-only),\n",
       "  ende = Register(ende=write-only, RESERVED=write-only)\n",
       "}"
      ]
     },
     "execution_count": 69,
     "metadata": {},
     "output_type": "execute_result"
    }
   ],
   "source": [
    "hls_ip.register_map"
   ]
  },
  {
   "cell_type": "code",
   "execution_count": 70,
   "id": "7928d7fa",
   "metadata": {},
   "outputs": [],
   "source": [
    "hls_ip.register_map.prime2 = 3011\n",
    "hls_ip.register_map.prime1 = 2027\n",
    "hls_ip.register_map.ende = 0 #Set to encrypt now\n",
    "\n"
   ]
  },
  {
   "cell_type": "code",
   "execution_count": 74,
   "id": "949d3971",
   "metadata": {},
   "outputs": [],
   "source": [
    "from pynq import allocate\n",
    "import numpy as np\n",
    "\n",
    "def runEncrypt(message):\n",
    "    hls_ip.register_map.ende = 0 #Set to encrypt now\n",
    "# Send to PL for encryption/decryption\n",
    "    input_buffer = allocate(shape=(len(message),), dtype=np.uint32)\n",
    "    input_buffer[:] = [ord(char) for char in message]\n",
    "    dma_send.transfer(input_buffer)\n",
    "    output_buffer[:] = allocate(shape=(len(message),), dtype=np.uint32)\n",
    "    dma_recv.transfer(output_buffer)\n",
    "    dma_send.wait()\n",
    "    dma_recv.wait()\n",
    "    \n",
    "    return output_buffer"
   ]
  },
  {
   "cell_type": "code",
   "execution_count": 83,
   "id": "7c2f98a0",
   "metadata": {},
   "outputs": [],
   "source": [
    "def runDecrypt(cipher_out):\n",
    "    hls_ip.register_map.ende = 1 #Set to decrypt now\n",
    "# Send to PL for encryption/decryption\n",
    "    input_buffer = allocate(shape=(len(cipher_out),), dtype=np.uint32)\n",
    "    input_buffer[:] = [x for x in cipher_out]\n",
    "    dma_send.transfer(input_buffer)\n",
    "    output_buffer[:] = allocate(shape=(len(cipher_out),), dtype=np.uint32)\n",
    "    dma_recv.transfer(output_buffer)\n",
    "    dma_send.wait()\n",
    "    dma_recv.wait()\n",
    "    \n",
    "    return output_buffer"
   ]
  },
  {
   "cell_type": "code",
   "execution_count": 94,
   "id": "6614c498",
   "metadata": {},
   "outputs": [
    {
     "name": "stdout",
     "output_type": "stream",
     "text": [
      "[72, 101, 108, 108, 111, 44, 32, 87, 111, 114, 108, 100]\n",
      "[2374081, 634949, 683399, 683399, 4222941, 5390756, 6054897, 2047352, 4222941, 4107156, 683399, 3812635]\n",
      "[2374081  634949  683399  683399 4222941 5390756 6054897 2047352 4222941\n",
      " 4107156  683399 3812635]\n",
      "Duration:  0.012873649597167969\n"
     ]
    }
   ],
   "source": [
    "import time\n",
    "msg = \"Hello, World\"\n",
    "# Get the encrypted Array and pass to runKernel to test\n",
    "public_key = (65537, 6103297)\n",
    "encrArr = encrypt(msg, public_key)\n",
    "print(encrArr)\n",
    "\n",
    "start = time.time()\n",
    "output = runEncrypt(msg)\n",
    "\n",
    "end = time.time()\n",
    "\n",
    "print(output)\n",
    "print(\"Duration: \", end - start)\n",
    "# if results match, the overlay works - PASSED\n"
   ]
  },
  {
   "cell_type": "code",
   "execution_count": 97,
   "id": "f9f42821",
   "metadata": {},
   "outputs": [
    {
     "name": "stdout",
     "output_type": "stream",
     "text": [
      "Hello, World\n",
      "[ 72 101 108 108 111  44  32  87 111 114 108 100]\n",
      "Duration:  0.7139289379119873\n"
     ]
    }
   ],
   "source": [
    "import time\n",
    "msg = \"Hello, World\"\n",
    "# Get the encrypted Array and pass to runKernel to test\n",
    "public_key = (2416153, 6103297)\n",
    "decrArr = decrypt(encrArr, private_key)\n",
    "print(decrArr)\n",
    "\n",
    "start = time.time()\n",
    "plain = runDecrypt(output)\n",
    "\n",
    "end = time.time()\n",
    "\n",
    "print(plain)\n",
    "print(\"Duration: \", end - start)\n",
    "# if results match, the overlay works - PASSED"
   ]
  }
 ],
 "metadata": {
  "kernelspec": {
   "display_name": "Python 3 (ipykernel)",
   "language": "python",
   "name": "python3"
  },
  "language_info": {
   "codemirror_mode": {
    "name": "ipython",
    "version": 3
   },
   "file_extension": ".py",
   "mimetype": "text/x-python",
   "name": "python",
   "nbconvert_exporter": "python",
   "pygments_lexer": "ipython3",
   "version": "3.10.4"
  }
 },
 "nbformat": 4,
 "nbformat_minor": 5
}
