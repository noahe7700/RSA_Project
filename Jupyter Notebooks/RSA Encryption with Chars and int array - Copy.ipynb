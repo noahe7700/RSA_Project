{
 "cells": [
  {
   "cell_type": "code",
   "execution_count": 7,
   "id": "3b6c9045",
   "metadata": {},
   "outputs": [],
   "source": [
    "import random\n",
    "\n",
    "import math\n",
    "\n",
    "def is_prime(num):\n",
    "    if num < 2:\n",
    "        return False\n",
    "    for i in range(2, int(num ** 0.5) + 1):\n",
    "        if num % i == 0:\n",
    "            return False\n",
    "    return True\n",
    "\n",
    "def gcd(a, b):\n",
    "    while b != 0:\n",
    "        a, b = b, a % b\n",
    "    return a\n",
    "\n",
    "def pubKeyGen(p, q):\n",
    "    #define phi with (p,q)\n",
    "    phi = (p-1)*(q-1)\n",
    "    # Calculate/return a value for e (public key)\n",
    "    e = 2\n",
    "    while (e < phi):\n",
    "        if(gcd(e, phi) == 1):\n",
    "            break\n",
    "        else:\n",
    "            e=e+1\n",
    "    return e\n",
    " \n",
    "def generate_keypair(prime1, prime2):\n",
    "    if not (is_prime(prime1) and is_prime(prime2)):\n",
    "        raise ValueError(\"Both numbers must be prime.\")\n",
    "    elif prime1 == prime2:\n",
    "        raise ValueError(\"Both numbers cannot be equal.\")\n",
    "    n = prime1 * prime2\n",
    "    phi = (prime1 - 1) * (prime2 - 1)\n",
    "\n",
    "    # Choose a random public key e such that 1 < e < phi and gcd(e, phi) = 1.\n",
    "\n",
    "    e = pubKeyGen(prime1, prime2)\n",
    "\n",
    "    # Use the extended Euclidean algorithm to compute the private key d.\n",
    "    d = pow(e, -1, phi)\n",
    " \n",
    "    # Return the public and private keypairs\n",
    "    return ((e, n), (d, n))"
   ]
  },
  {
   "cell_type": "code",
   "execution_count": 2,
   "id": "9c937c88",
   "metadata": {},
   "outputs": [],
   "source": [
    "def encrypt(message, public_key):\n",
    "\n",
    "    # Unpack the key into its components\n",
    "    e, n = public_key\n",
    " \n",
    "    # Convert each letter in the plaintext to numbers based on the character using a^b mod m\n",
    "    cipher = [pow(ord(char), e, n) for char in message]\n",
    " \n",
    "    # Return the array of bytes\n",
    "    return cipher\n",
    "\n",
    " \n",
    "\n",
    "def decrypt(cipher, private_key):\n",
    "    # Unpack the key into its components\n",
    "    d, n = private_key\n",
    "\n",
    "    # Generate the plaintext based on the ciphertext and key using a^b mod m\n",
    "    message = [chr(pow(char, d, n)) for char in cipher]\n",
    "\n",
    "    # Return the array of bytes as a string\n",
    "    return ''.join(message)\n"
   ]
  },
  {
   "cell_type": "code",
   "execution_count": 8,
   "id": "126f3c9c",
   "metadata": {},
   "outputs": [
    {
     "name": "stdout",
     "output_type": "stream",
     "text": [
      "Public key: (7, 19781)\n",
      "Private key: (11143, 19781)\n",
      "Ciphertext: [7497, 14556, 18216, 18216, 214, 7634, 2901, 10840, 214, 11622, 18216, 16631, 1543]\n",
      "Plaintext: Hello, world!\n",
      "Duration: 0.005399465560913086\n"
     ]
    }
   ],
   "source": [
    "import time\n",
    "\n",
    "prime1 = 3011\n",
    "prime2 = 2027\n",
    "message = \"Hello, world!\"\n",
    "start = time.time()\n",
    "public_key, private_key = generate_keypair(prime1, prime2)\n",
    "ciphertext = encrypt(message, public_key)\n",
    "plaintext = decrypt(ciphertext, private_key)\n",
    "end = time.time()\n",
    "print(\"Public key:\", public_key)\n",
    "print(\"Private key:\", private_key)\n",
    "print(\"Ciphertext:\", ciphertext)\n",
    "print(\"Plaintext:\", plaintext)\n",
    "print(\"Duration:\", end - start)"
   ]
  },
  {
   "cell_type": "code",
   "execution_count": null,
   "id": "60fe308d",
   "metadata": {},
   "outputs": [],
   "source": []
  }
 ],
 "metadata": {
  "kernelspec": {
   "display_name": "Python 3 (ipykernel)",
   "language": "python",
   "name": "python3"
  },
  "language_info": {
   "codemirror_mode": {
    "name": "ipython",
    "version": 3
   },
   "file_extension": ".py",
   "mimetype": "text/x-python",
   "name": "python",
   "nbconvert_exporter": "python",
   "pygments_lexer": "ipython3",
   "version": "3.10.4"
  }
 },
 "nbformat": 4,
 "nbformat_minor": 5
}
