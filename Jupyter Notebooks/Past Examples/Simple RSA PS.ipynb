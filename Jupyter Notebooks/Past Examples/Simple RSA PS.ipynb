{
 "cells": [
  {
   "cell_type": "markdown",
   "id": "ef411c68",
   "metadata": {},
   "source": [
    "# Project: RSA Software Implementation on PS"
   ]
  },
  {
   "cell_type": "code",
   "execution_count": 2,
   "id": "3c3563b2",
   "metadata": {},
   "outputs": [],
   "source": [
    "# General Codes used for the process (Greatest common denominator)\n",
    "import math\n",
    "\n",
    "def gcd(a, b):\n",
    "    tmp = 0\n",
    "    while(1):\n",
    "        tmp = a % b\n",
    "        if (tmp == 0):\n",
    "            return b\n",
    "        a = b\n",
    "        b = tmp\n",
    "        \n"
   ]
  },
  {
   "cell_type": "markdown",
   "id": "91dadec6",
   "metadata": {},
   "source": [
    "## RSA Encryption Code"
   ]
  },
  {
   "cell_type": "code",
   "execution_count": 3,
   "id": "38e88dc8",
   "metadata": {},
   "outputs": [
    {
     "name": "stdout",
     "output_type": "stream",
     "text": [
      "5\n"
     ]
    }
   ],
   "source": [
    "# Initial Set-up of Encryptor\n",
    "# Define variable - (p,q) are prime numbers, n is prime product, e is public key, phi as the totient\n",
    "\n",
    "p = 3\n",
    "q = 7\n",
    "n = p*q\n",
    " # this value will change so that it is verified to be coprime and less than phi\n",
    "def publicKeyGen(p, q):\n",
    "    #define phi with (p,q)\n",
    "    phi = (p-1)*(q-1)\n",
    "    # Calculate/return a value for e (public key)\n",
    "    e = 2\n",
    "    while (e < phi):\n",
    "        if(gcd(e, phi) == 1):\n",
    "            break\n",
    "        else:\n",
    "            e=e+1\n",
    "    return e\n",
    "public_key = publicKeyGen(p,q)\n",
    "print(publicKeyGen(p,q))"
   ]
  },
  {
   "cell_type": "code",
   "execution_count": 4,
   "id": "d9b766bd",
   "metadata": {},
   "outputs": [],
   "source": [
    "# Perform encryption with inputs: primes (p,q), public key, and the input value\n",
    "\n",
    "def RSA_Encryptor(msg, publicKey, prime1, prime2):\n",
    "    # Equation for encryption is encyrptMSG = msg ^ public key % (prime1 * prime2)\n",
    "    n=prime1*prime2\n",
    "    encryptMSG = pow(msg, publicKey, n)\n",
    "    #encryptMSG = math.fmod(encryptMSG, n)\n",
    "    return encryptMSG\n",
    "    \n"
   ]
  },
  {
   "cell_type": "code",
   "execution_count": 5,
   "id": "e4278bbb",
   "metadata": {},
   "outputs": [
    {
     "name": "stdout",
     "output_type": "stream",
     "text": [
      "122\n"
     ]
    }
   ],
   "source": [
    "print(RSA_Encryptor(12, publicKeyGen(p,q),19,17))\n"
   ]
  },
  {
   "cell_type": "markdown",
   "id": "82ffb51a",
   "metadata": {},
   "source": [
    "## RSA Decryption Code"
   ]
  },
  {
   "cell_type": "code",
   "execution_count": 6,
   "id": "1304b721",
   "metadata": {},
   "outputs": [],
   "source": [
    "# First run the code for the private key generator\n",
    "def privateKeyGen(p,q,pubKey):\n",
    "    phi = (q-1)*(p-1)\n",
    "    d = pow(pubKey, -1, phi)\n",
    "    return d"
   ]
  },
  {
   "cell_type": "code",
   "execution_count": 7,
   "id": "eb28afd4",
   "metadata": {},
   "outputs": [
    {
     "name": "stdout",
     "output_type": "stream",
     "text": [
      "5\n",
      "173\n"
     ]
    }
   ],
   "source": [
    "#Testing of public key generator\n",
    "publicKey = publicKeyGen(19,13)\n",
    "print(publicKey)\n",
    "print(privateKeyGen(19,13,publicKey))"
   ]
  },
  {
   "cell_type": "code",
   "execution_count": 8,
   "id": "8dfefaf8",
   "metadata": {},
   "outputs": [],
   "source": [
    "# Function to perform the Decryption\n",
    "def RSA_Decryptor(encryptData, privateKey, prime1, prime2):\n",
    "    # Equation for decrypt is msg = encryptMSG ^ privateKey % (prime1 * prime2)\n",
    "    n = prime1*prime2\n",
    "    decryptMSG = pow(encryptData, privateKey, n)\n",
    "\n",
    "    return decryptMSG\n"
   ]
  },
  {
   "cell_type": "code",
   "execution_count": 9,
   "id": "d7f3ae70",
   "metadata": {},
   "outputs": [
    {
     "data": {
      "text/plain": [
       "48"
      ]
     },
     "execution_count": 9,
     "metadata": {},
     "output_type": "execute_result"
    }
   ],
   "source": [
    "# Test decryptor\n",
    "RSA_Decryptor(3, privateKeyGen(19,13,publicKeyGen(19,13)), 19, 13)"
   ]
  },
  {
   "cell_type": "markdown",
   "id": "2500512a",
   "metadata": {},
   "source": [
    "## Testing Encrpytion/Decryption Example"
   ]
  },
  {
   "cell_type": "code",
   "execution_count": 10,
   "id": "492d1979",
   "metadata": {},
   "outputs": [
    {
     "name": "stdout",
     "output_type": "stream",
     "text": [
      "public Key: 3\n",
      "Encrypted data: 29741\n",
      "Private Key: 20491\n",
      "Decrypted: 132\n"
     ]
    }
   ],
   "source": [
    "# Value being encrypted\n",
    "msg = 132\n",
    "\n",
    "#Prime values\n",
    "p1 = 137\n",
    "q1 = 227\n",
    "# Generation of public key\n",
    "publicKey = publicKeyGen(p1,q1)\n",
    "print(\"public Key:\", publicKey)\n",
    "\n",
    "# Encrypt using public key\n",
    "encryptedMsg = RSA_Encryptor(msg, publicKey, p1, q1)\n",
    "print(\"Encrypted data:\", encryptedMsg)\n",
    "\n",
    "# Generation of private key\n",
    "PrivateKey = privateKeyGen(p1, q1, publicKey)\n",
    "print(\"Private Key:\", PrivateKey)\n",
    "\n",
    "# Decrypt the encrypted data\n",
    "decryptedMsg = RSA_Decryptor(encryptedMsg, PrivateKey, p1, q1)\n",
    "print(\"Decrypted:\", decryptedMsg)"
   ]
  },
  {
   "cell_type": "markdown",
   "id": "8ac592af",
   "metadata": {},
   "source": [
    "## Simplified Version with Key Generation Embedded in Encryption function"
   ]
  },
  {
   "cell_type": "code",
   "execution_count": 11,
   "id": "e7830d9b",
   "metadata": {},
   "outputs": [],
   "source": [
    "def encrypt(msg, prime1, prime2):\n",
    "    pubKey = publicKeyGen(prime1, prime2)\n",
    "    n = prime1 * prime2\n",
    "    encrData = pow(msg, pubKey, n)\n",
    "    # Return the encrypted data and the public key for the decryption\n",
    "    return (pubKey, encrData)\n",
    "\n",
    "def decrypt(encrMsg, prime1, prime2, pubKey):\n",
    "    privKey = privateKeyGen(prime1, prime2, pubKey)\n",
    "    n = prime1 * prime2\n",
    "    decrData = pow(encrMsg, privKey, n)\n",
    "    return (privKey, decrData)"
   ]
  },
  {
   "cell_type": "code",
   "execution_count": 23,
   "id": "d6d567d4",
   "metadata": {},
   "outputs": [
    {
     "name": "stdout",
     "output_type": "stream",
     "text": [
      "Encrypted data: 1512\n",
      "Public Key: 3\n",
      "Original data after Decryption: 50\n",
      "Private Key: 2411\n",
      "Duration:  0.0\n"
     ]
    }
   ],
   "source": [
    "import time\n",
    "# Test consolidated design\n",
    "prm1 = 17\n",
    "prm2 = 227\n",
    "msg = 50\n",
    "start = time.time()\n",
    "# Run the encrypt and save the returned data\n",
    "pubKey, encrData = encrypt(msg, prm1, prm2)\n",
    "\n",
    "# Run the decrypt using the pubKey and encrData\n",
    "privKey, decrData = decrypt(encrData, prm1, prm2, pubKey)\n",
    "end = time.time()\n",
    "print(\"Encrypted data:\", encrData)\n",
    "print(\"Public Key:\", pubKey)\n",
    "print(\"Original data after Decryption:\", decrData)\n",
    "print(\"Private Key:\", privKey)\n",
    "print(\"Duration: \", end - start)"
   ]
  },
  {
   "cell_type": "code",
   "execution_count": null,
   "id": "7c67cfaa",
   "metadata": {},
   "outputs": [],
   "source": []
  }
 ],
 "metadata": {
  "kernelspec": {
   "display_name": "Python 3 (ipykernel)",
   "language": "python",
   "name": "python3"
  },
  "language_info": {
   "codemirror_mode": {
    "name": "ipython",
    "version": 3
   },
   "file_extension": ".py",
   "mimetype": "text/x-python",
   "name": "python",
   "nbconvert_exporter": "python",
   "pygments_lexer": "ipython3",
   "version": "3.10.11"
  }
 },
 "nbformat": 4,
 "nbformat_minor": 5
}
