{
 "cells": [
  {
   "attachments": {},
   "cell_type": "markdown",
   "metadata": {},
   "source": [
    "# AXI Stream Implementation of RSA"
   ]
  },
  {
   "attachments": {},
   "cell_type": "markdown",
   "metadata": {},
   "source": [
    "This code builds off what was learned in Example #3 using chars. In this version, the conversion of the string to an array was moved out of the encryption/decryption functions and into its own dedicated functions. The first half of the code is the supporting python code and an example test of converting a string to an array and back. For the second half of the code, there is the beginning of the implementation for the axi stream functionality. The supporting HLS code for this is located in the file RSA_encryption.cpp which performs the calulcation on the input_buffer integer. \n",
    "\n",
    "The cpp file still needs to be tested, so the overlay part of this notebook is incomplete/non-functional as of now (3/2)."
   ]
  },
  {
   "cell_type": "code",
   "execution_count": 21,
   "metadata": {},
   "outputs": [],
   "source": [
    "# Supporting code for implementing\n",
    "import random\n",
    "import math\n",
    "\n",
    "def gcd(a, b):\n",
    "    while b != 0:\n",
    "        a, b = b, a % b\n",
    "    return a\n",
    "# Function to generate public key\n",
    "def pubKeyGen(p, q):\n",
    "    #define phi with (p,q)\n",
    "    phi = (p-1)*(q-1)\n",
    "    # calculate/return a value for e (public key)\n",
    "    e = 2\n",
    "    while (e < phi):\n",
    "        if(gcd(e, phi) == 1):\n",
    "            break\n",
    "        else:\n",
    "            e=e+1\n",
    "    return e\n",
    "\n",
    "# Functions to generate public/private keys\n",
    "def generate_keypair(prime1, prime2):\n",
    "\n",
    "    n = prime1 * prime2\n",
    "    phi = (prime1 - 1) * (prime2 - 1)\n",
    "\n",
    "    # Generate a public key value e from the primes\n",
    "    e = pubKeyGen(prime1, prime2)\n",
    "\n",
    "    # Compute the private key d.\n",
    "    d = pow(e, -1, phi)\n",
    " \n",
    "    # Return the public and private keypairs\n",
    "    return ((e, n), (d, n))\n",
    "\n",
    "# Function to convert the message to an array of integers.\n",
    "def prepInput(message):\n",
    "    intArrString = [ord(char) for char in message]\n",
    "    return intArrString\n",
    "# Function to reverse the action above and return a string from an array of integers.\n",
    "def convOutput(orgMsg):\n",
    "    stringFrInt = [chr(char) for char in orgMsg]\n",
    "    return ''.join(stringFrInt)"
   ]
  },
  {
   "cell_type": "code",
   "execution_count": 22,
   "metadata": {},
   "outputs": [
    {
     "name": "stdout",
     "output_type": "stream",
     "text": [
      "[72, 101, 108, 108, 111]\n",
      "Hello\n"
     ]
    }
   ],
   "source": [
    "# Test of converting string to a list of int - Passed!\n",
    "inStr = \"Hello\"\n",
    "inStr = prepInput(inStr)\n",
    "print(inStr)\n",
    "inStr =convOutput(inStr)\n",
    "print(inStr)"
   ]
  },
  {
   "attachments": {},
   "cell_type": "markdown",
   "metadata": {},
   "source": [
    "## Overlay Code"
   ]
  },
  {
   "cell_type": "code",
   "execution_count": null,
   "metadata": {},
   "outputs": [],
   "source": [
    "# Implementation Framework for AXI Stream (adapted from HW4 until Bitstream is working)\n",
    "\n",
    "from pynq import Overlay\n",
    "# Bit file from Vivado\n",
    "ol = Overlay('')\n",
    "\n",
    "dma = ol.axi_dma\n",
    "dma_send = ol.axi_dma.sendchannel\n",
    "dma_recv = ol.axi_dma.recvchannel\n",
    "\n",
    "hls_ip = ol.example_0 \n",
    "\n",
    "CONTROL_REGISTER = 0x0\n",
    "hls_ip.write(CONTROL_REGISTER, 0x81)"
   ]
  },
  {
   "cell_type": "code",
   "execution_count": null,
   "metadata": {},
   "outputs": [],
   "source": [
    "from pynq import allocate\n",
    "import numpy as np\n",
    "\n",
    "# Adapted function to allocate the input and output buffers based on the amount of chars\n",
    "def initilizeIO(message):\n",
    "\n",
    "    input_buffer = allocate(shape=(len(message),), dtype=np.uint64)\n",
    "    output_buffer = allocate(shape=(len(message),), dtype=np.uint64)\n",
    "    return output_buffer, input_buffer\n",
    "\n"
   ]
  },
  {
   "attachments": {},
   "cell_type": "markdown",
   "metadata": {},
   "source": [
    "Note: this is a concept to show how I am planning on implementing this algorithm from HW. This has not been tested yet, and will likely change drastically over the course of this project."
   ]
  },
  {
   "cell_type": "code",
   "execution_count": null,
   "metadata": {},
   "outputs": [],
   "source": [
    "# Example of using this code\n",
    "\n",
    "# First provide the input string (later this will be input from user, but 'hello' is easier to test)\n",
    "input_message = \"hello\"\n",
    "\n",
    "# Intilize the input/output buffers from the message\n",
    "output_buffer, input_buffer = initilizeIO(input_message)\n",
    "\n",
    "# Convert String\n",
    "input_buffer = prepInput(input_message)\n",
    "\n",
    "# Send to PL for encryption/decryption\n",
    "dma_send.transfer(input_buffer)\n",
    "dma_recv.transfer(output_buffer)\n",
    "dma_send.wait()\n",
    "dma_recv.wait()\n",
    "\n",
    "# Once finished, convert back to string and print\n",
    "output_message = convOutput(output_buffer)\n",
    "print(output_message)"
   ]
  }
 ],
 "metadata": {
  "kernelspec": {
   "display_name": "Python 3",
   "language": "python",
   "name": "python3"
  },
  "language_info": {
   "codemirror_mode": {
    "name": "ipython",
    "version": 3
   },
   "file_extension": ".py",
   "mimetype": "text/x-python",
   "name": "python",
   "nbconvert_exporter": "python",
   "pygments_lexer": "ipython3",
   "version": "3.10.10"
  },
  "orig_nbformat": 4
 },
 "nbformat": 4,
 "nbformat_minor": 2
}
