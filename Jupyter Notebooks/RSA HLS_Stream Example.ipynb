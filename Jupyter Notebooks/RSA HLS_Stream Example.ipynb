{
 "cells": [
  {
   "attachments": {},
   "cell_type": "markdown",
   "metadata": {},
   "source": [
    "# AXI Stream Implementation of RSA"
   ]
  },
  {
   "cell_type": "code",
   "execution_count": 21,
   "metadata": {},
   "outputs": [],
   "source": [
    "# Supporting code for implementing\n",
    "import random\n",
    "\n",
    "import math\n",
    "\n",
    "\n",
    "\n",
    "def gcd(a, b):\n",
    "    while b != 0:\n",
    "        a, b = b, a % b\n",
    "    return a\n",
    "# Function to generate public key\n",
    "def pubKeyGen(p, q):\n",
    "    #define phi with (p,q)\n",
    "    phi = (p-1)*(q-1)\n",
    "    # calculate/return a value for e (public key)\n",
    "    e = 2\n",
    "    while (e < phi):\n",
    "        if(gcd(e, phi) == 1):\n",
    "            break\n",
    "        else:\n",
    "            e=e+1\n",
    "    return e\n",
    "\n",
    "# Functions to generate public/private keys\n",
    "def generate_keypair(prime1, prime2):\n",
    "\n",
    "    n = prime1 * prime2\n",
    "    phi = (prime1 - 1) * (prime2 - 1)\n",
    "\n",
    "    # Generate a public key value e from the primes\n",
    "    e = pubKeyGen(prime1, prime2)\n",
    "\n",
    "    # Compute the private key d.\n",
    "    d = pow(e, -1, phi)\n",
    " \n",
    "    # Return the public and private keypairs\n",
    "    return ((e, n), (d, n))\n",
    "\n",
    "# Function to convert the message to an array of integers.\n",
    "def prepInput(message):\n",
    "    intArrString = [ord(char) for char in message]\n",
    "    return intArrString\n",
    "# Function to reverse the action above and return a string from an array of integers.\n",
    "def convOutput(orgMsg):\n",
    "    stringFrInt = [chr(char) for char in orgMsg]\n",
    "    return ''.join(stringFrInt)"
   ]
  },
  {
   "cell_type": "code",
   "execution_count": 22,
   "metadata": {},
   "outputs": [
    {
     "name": "stdout",
     "output_type": "stream",
     "text": [
      "[72, 101, 108, 108, 111]\n",
      "Hello\n"
     ]
    }
   ],
   "source": [
    "# Test of converting string to a list of int - Passed!\n",
    "inStr = \"Hello\"\n",
    "inStr = prepInput(inStr)\n",
    "print(inStr)\n",
    "inStr =convOutput(inStr)\n",
    "print(inStr)"
   ]
  },
  {
   "attachments": {},
   "cell_type": "markdown",
   "metadata": {},
   "source": [
    "## Overlay Code"
   ]
  },
  {
   "cell_type": "code",
   "execution_count": null,
   "metadata": {},
   "outputs": [],
   "source": [
    "# Implementation Framework for AXI Stream\n",
    "\n",
    "from pynq import Overlay\n",
    "# Bit file from Vivado\n",
    "ol = Overlay('')\n",
    "\n",
    "dma = ol.axi_dma\n",
    "dma_send = ol.axi_dma.sendchannel\n",
    "dma_recv = ol.axi_dma.recvchannel\n",
    "\n",
    "hls_ip = ol.example_0 \n",
    "\n",
    "CONTROL_REGISTER = 0x0\n",
    "hls_ip.write(CONTROL_REGISTER, 0x81)"
   ]
  },
  {
   "cell_type": "code",
   "execution_count": null,
   "metadata": {},
   "outputs": [],
   "source": [
    "from pynq import allocate\n",
    "import numpy as np\n",
    "\n",
    "# Adapted function to allocate the input and output buffers based on the amount of chars\n",
    "def initilizeIO(message):\n",
    "\n",
    "    input_buffer = allocate(shape=(len(message),), dtype=np.uint64)\n",
    "    output_buffer = allocate(shape=(len(message),), dtype=np.uint64)\n",
    "    return output_buffer, input_buffer\n",
    "\n"
   ]
  },
  {
   "cell_type": "code",
   "execution_count": null,
   "metadata": {},
   "outputs": [],
   "source": [
    "# Example of using this code\n",
    "\n",
    "# First establist the "
   ]
  }
 ],
 "metadata": {
  "kernelspec": {
   "display_name": "Python 3",
   "language": "python",
   "name": "python3"
  },
  "language_info": {
   "codemirror_mode": {
    "name": "ipython",
    "version": 3
   },
   "file_extension": ".py",
   "mimetype": "text/x-python",
   "name": "python",
   "nbconvert_exporter": "python",
   "pygments_lexer": "ipython3",
   "version": "3.10.10"
  },
  "orig_nbformat": 4
 },
 "nbformat": 4,
 "nbformat_minor": 2
}
