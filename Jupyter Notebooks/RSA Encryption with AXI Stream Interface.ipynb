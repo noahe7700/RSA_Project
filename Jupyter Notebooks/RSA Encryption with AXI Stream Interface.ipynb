{
 "cells": [
  {
   "cell_type": "markdown",
   "id": "61e344cc",
   "metadata": {},
   "source": [
    "## Supporting Code for Verifying the Overlay\n",
    "(Most Code is pulled from the Software implementation)"
   ]
  },
  {
   "cell_type": "code",
   "execution_count": 81,
   "id": "b185aa26",
   "metadata": {},
   "outputs": [],
   "source": [
    "import random\n",
    "import math\n",
    "\n",
    "def gcd(a, b):\n",
    "    while b != 0:\n",
    "        a, b = b, a % b\n",
    "    return a\n",
    "# Function to generate public key\n",
    "def pubKeyGen(p, q):\n",
    "    #define phi with (p,q)\n",
    "    phi = (p-1)*(q-1)\n",
    "    # calculate/return a value for e (public key)\n",
    "    e = 2\n",
    "    while (e < phi):\n",
    "        if(gcd(e, phi) == 1):\n",
    "            break\n",
    "        else:\n",
    "            e=e+1\n",
    "    return e\n",
    "\n",
    "# Functions to generate public/private keys\n",
    "def generate_keypair(prime1, prime2):\n",
    "\n",
    "    n = prime1 * prime2\n",
    "    phi = (prime1 - 1) * (prime2 - 1)\n",
    "\n",
    "    # Generate a public key value e from the primes\n",
    "    e = pubKeyGen(prime1, prime2)\n",
    "\n",
    "    # Compute the private key d.\n",
    "    d = pow(e, -1, phi)\n",
    " \n",
    "    # Return the public and private keypairs\n",
    "    return ((e, n), (d, n))\n",
    "\n",
    "# Function to convert the message to an array of integers.\n",
    "def prepInput(message):\n",
    "    intArrString = [ord(char) for char in message]\n",
    "    return intArrString\n",
    "# Function to reverse the action above and return a string from an array of integers.\n",
    "def convOutput(orgMsg):\n",
    "    stringFrInt = [chr(char) for char in orgMsg]\n",
    "    return ''.join(stringFrInt)\n",
    "\n",
    "def encrypt(message, public_key):\n",
    "\n",
    "    # Unpack the key into its components\n",
    "    e, n = public_key\n",
    "    testWord = [ord(char) for char in message]\n",
    "    print(testWord)\n",
    "    # Convert each letter in the plaintext to numbers based on the character using a^b mod m\n",
    "    cipher = [pow(ord(char), e, n) for char in message]\n",
    "     \n",
    "    # Return the array of bytes\n",
    "    return cipher\n",
    "\n",
    " \n",
    "\n",
    "def decrypt(cipher, private_key):\n",
    "    # Unpack the key into its components\n",
    "    d, n = private_key\n",
    "\n",
    "    # Generate the plaintext based on the ciphertext and key using a^b mod m\n",
    "    message = [chr(pow(char, d, n)) for char in cipher]\n",
    "\n",
    "    # Return the array of bytes as a string\n",
    "    return ''.join(message)\n"
   ]
  },
  {
   "cell_type": "code",
   "execution_count": 7,
   "id": "a1cce0b5",
   "metadata": {},
   "outputs": [
    {
     "name": "stdout",
     "output_type": "stream",
     "text": [
      "[72, 101, 108, 108, 111]\n",
      "Hello\n"
     ]
    }
   ],
   "source": [
    "# Test of converting string to a list of int - Passed!\n",
    "inStr = \"Hello\"\n",
    "inStr = prepInput(inStr)\n",
    "print(inStr)\n",
    "inStr =convOutput(inStr)\n",
    "print(inStr)"
   ]
  },
  {
   "cell_type": "code",
   "execution_count": 85,
   "id": "833ab950",
   "metadata": {},
   "outputs": [
    {
     "name": "stdout",
     "output_type": "stream",
     "text": [
      "[72, 101, 108, 108, 111, 44, 32, 87, 111, 114, 108, 100, 33]\n",
      "Encrypted Values:  [2374081, 634949, 683399, 683399, 4222941, 5390756, 6054897, 2047352, 4222941, 4107156, 683399, 3812635, 469162]\n",
      "Decrypted Values:  Hello, World!\n"
     ]
    }
   ],
   "source": [
    "# Example test of Encryption/Decryption with Same Keys as HW\n",
    "msg = \"Hello, World!\"\n",
    "public_key = (65537, 6103297) # Public key used for HW with primes 3011 and 2027\n",
    "private_key = (2416153, 6103297) # Private key used for HW\n",
    "encryptArr = encrypt(msg, public_key)\n",
    "print(\"Encrypted Values: \", encryptArr) # Encrypted values should match outcome of overlay below\n",
    "decryptArr = decrypt(encryptArr, private_key)\n",
    "print(\"Decrypted Values: \", decryptArr) # Decrypted value should return the original message"
   ]
  },
  {
   "cell_type": "markdown",
   "id": "b993bbb0",
   "metadata": {},
   "source": [
    "# Overlay Code"
   ]
  },
  {
   "cell_type": "code",
   "execution_count": 86,
   "id": "a3352419",
   "metadata": {},
   "outputs": [],
   "source": [
    "# Implementation Framework for AXI Stream (adapted from HW4 until Bitstream is working)\n",
    "\n",
    "from pynq import Overlay\n",
    "# Bit file from Vivado\n",
    "ol = Overlay('/home/xilinx/pynq/overlays/dma_axis_ip_example.bit')\n",
    "dma = ol.axi_dma\n",
    "dma_send = ol.axi_dma.sendchannel\n",
    "dma_recv = ol.axi_dma.recvchannel\n",
    "\n",
    "hls_ip = ol.encrypt_0 \n",
    "\n",
    "CONTROL_REGISTER = 0x00\n",
    "hls_ip.write(CONTROL_REGISTER, 0x81)\n"
   ]
  },
  {
   "cell_type": "code",
   "execution_count": 87,
   "id": "8ac9f0a8",
   "metadata": {},
   "outputs": [],
   "source": [
    "from pynq import allocate\n",
    "import numpy as np\n",
    "\n",
    "def runKernel(message):\n",
    "# Send to PL for encryption/decryption\n",
    "    input_buffer = allocate(shape=(len(message),), dtype=np.uint32)\n",
    "    input_buffer[:] = [ord(char) for char in message]\n",
    "    dma_send.transfer(input_buffer)\n",
    "    output_buffer = allocate(shape=(len(message),), dtype=np.uint32)\n",
    "    dma_recv.transfer(output_buffer)\n",
    "    dma_send.wait()\n",
    "    dma_recv.wait()"
   ]
  },
  {
   "cell_type": "code",
   "execution_count": 88,
   "id": "12e822a5",
   "metadata": {},
   "outputs": [
    {
     "name": "stdout",
     "output_type": "stream",
     "text": [
      "[2374081  634949  683399  683399 4222941 5390756 6054897 2047352 4222941\n",
      " 4107156  683399 3812635  469162]\n"
     ]
    }
   ],
   "source": [
    "# runKernel takes the message you want to encrypt and returns the output_buffer with the encrypted results.\n",
    "message1 = \"Hello, World!\"\n",
    "runKernel(message1)\n",
    "print(output_buffer) # Printed output should match the values from the SW test above."
   ]
  },
  {
   "cell_type": "code",
   "execution_count": 99,
   "id": "632a9f7f",
   "metadata": {},
   "outputs": [
    {
     "data": {
      "text/plain": [
       "'Hello, World!'"
      ]
     },
     "execution_count": 99,
     "metadata": {},
     "output_type": "execute_result"
    }
   ],
   "source": [
    "# Run decryption on the SW function by converting output_buffer to list and perform decrypt\n",
    "cipher_out = output_buffer.tolist()\n",
    "decrypt(cipher_out, private_key)"
   ]
  },
  {
   "cell_type": "code",
   "execution_count": null,
   "id": "5a5d5765",
   "metadata": {},
   "outputs": [],
   "source": []
  }
 ],
 "metadata": {
  "kernelspec": {
   "display_name": "Python 3 (ipykernel)",
   "language": "python",
   "name": "python3"
  },
  "language_info": {
   "codemirror_mode": {
    "name": "ipython",
    "version": 3
   },
   "file_extension": ".py",
   "mimetype": "text/x-python",
   "name": "python",
   "nbconvert_exporter": "python",
   "pygments_lexer": "ipython3",
   "version": "3.10.4"
  }
 },
 "nbformat": 4,
 "nbformat_minor": 5
}
