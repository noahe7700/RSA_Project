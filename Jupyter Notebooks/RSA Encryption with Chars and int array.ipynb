{
 "cells": [
  {
   "attachments": {},
   "cell_type": "markdown",
   "id": "515aed96",
   "metadata": {},
   "source": [
    "# RSA Example 3\n",
    "This example encrypts/decrypts a string by iterating through each char, converting the char to integer, and computing the encryption. Unlike the past examples, this returns an array of values after encrypting. When decrypting, the array of integers are evalulated using the a ^ d % n equation to return to their original value. Lastly, the array of values are converted back to chars and joined to produce the original string message.\n",
    "\n",
    "The most promising aspect of this example is the array of integers returned. This allows the integers to be more limited in size compared to the full string computation in example 2. Looking forward, this will be much more manageable and likely more effecient when implementing in PL. It also reflects the work from HW4 using AXI-stream with an array, which will help when developing the interfacing. \n",
    "\n",
    "For eventually implementing this in PL, the string message would be converted to an integer array on python/PS and will load that value into an input_buffer. From there, the values will be transfered to the PL with DMA and will be encrypted/decrypted. After decrypting, the output_buffer array of integers will be converted back to chars and joined to produce the original message.\n",
    "\n",
    "<i>  </i> "
   ]
  },
  {
   "cell_type": "code",
   "execution_count": 4,
   "id": "3b6c9045",
   "metadata": {},
   "outputs": [],
   "source": [
    "import random\n",
    "import math\n",
    "\n",
    "# Simple GCD function\n",
    "def gcd(a, b):\n",
    "    while b != 0:\n",
    "        a, b = b, a % b\n",
    "    return a\n",
    "\n",
    "def pubKeyGen(p, q):\n",
    "    #define phi with (p,q)\n",
    "    phi = (p-1)*(q-1)\n",
    "    # calculate/return a value for e (public key)\n",
    "    e = 65537\n",
    "    while (e < phi):\n",
    "        # If e and phi are coprime, break and return e\n",
    "        if(gcd(e, phi) == 1):\n",
    "            break\n",
    "        else:\n",
    "            e=e+1\n",
    "    return e\n",
    "\n",
    "# Generates the key pairs for public and private keys given the prime numbers\n",
    "def generate_keypair(prime1, prime2):\n",
    "\n",
    "    n = prime1 * prime2\n",
    "    phi = (prime1 - 1) * (prime2 - 1)\n",
    "\n",
    "    # Generate a public key value e from the primes\n",
    "    e = pubKeyGen(prime1, prime2)\n",
    "\n",
    "    # Compute the private key d. (Nifty way to calculate inverse modulo on Python)\n",
    "    d = pow(e, -1, phi)\n",
    " \n",
    "    # Return the public and private keypairs\n",
    "    return ((e, n), (d, n))"
   ]
  },
  {
   "cell_type": "code",
   "execution_count": 5,
   "id": "9c937c88",
   "metadata": {},
   "outputs": [],
   "source": [
    "def encrypt(message, public_key):\n",
    "\n",
    "    # Unpack the key into its components\n",
    "    e, n = public_key\n",
    " \n",
    "    # Convert each letter in the plaintext to numbers based on the character using a^b mod m (this was discovered with chatGPT)\n",
    "    cipher = [pow(ord(char), e, n) for char in message]\n",
    " \n",
    "    # Return the array of bytes\n",
    "    return cipher\n",
    "\n",
    " \n",
    "\n",
    "def decrypt(cipher, private_key):\n",
    "    # Unpack the key into its components\n",
    "    d, n = private_key\n",
    "\n",
    "    # Generate the plaintext based on the ciphertext and key using a^b mod m (ChatGPT credit)\n",
    "    message = [chr(pow(char, d, n)) for char in cipher]\n",
    "\n",
    "    # Return the array of bytes as a string\n",
    "    return ''.join(message)\n"
   ]
  },
  {
   "cell_type": "code",
   "execution_count": 6,
   "id": "126f3c9c",
   "metadata": {},
   "outputs": [
    {
     "name": "stdout",
     "output_type": "stream",
     "text": [
      "Public key: (65537, 6103297)\n",
      "Private key: (2416153, 6103297)\n",
      "Ciphertext: [2374081, 634949, 683399, 683399, 4222941, 5390756, 6054897, 694407, 4222941, 4107156, 683399, 3812635, 469162]\n",
      "Plaintext: Hello, world!\n",
      "Duration: 0.0009963512420654297\n"
     ]
    }
   ],
   "source": [
    "import time\n",
    "\n",
    "prime1 = 2027\n",
    "prime2 = 3011\n",
    "message = \"Hello, world!\"\n",
    "start = time.time()\n",
    "public_key, private_key = generate_keypair(prime1, prime2)\n",
    "ciphertext = encrypt(message, public_key)\n",
    "plaintext = decrypt(ciphertext, private_key)\n",
    "end = time.time()\n",
    "print(\"Public key:\", public_key)\n",
    "print(\"Private key:\", private_key)\n",
    "print(\"Ciphertext:\", ciphertext)\n",
    "print(\"Plaintext:\", plaintext)\n",
    "print(\"Duration:\", end - start)"
   ]
  },
  {
   "cell_type": "code",
   "execution_count": null,
   "id": "60fe308d",
   "metadata": {},
   "outputs": [],
   "source": []
  }
 ],
 "metadata": {
  "kernelspec": {
   "display_name": "Python 3",
   "language": "python",
   "name": "python3"
  },
  "language_info": {
   "codemirror_mode": {
    "name": "ipython",
    "version": 3
   },
   "file_extension": ".py",
   "mimetype": "text/x-python",
   "name": "python",
   "nbconvert_exporter": "python",
   "pygments_lexer": "ipython3",
   "version": "3.10.10"
  },
  "vscode": {
   "interpreter": {
    "hash": "0d3b394ff3169c464e3082f6f5f258559c4f129a008e9038f659c9cdd35fcffa"
   }
  }
 },
 "nbformat": 4,
 "nbformat_minor": 5
}
