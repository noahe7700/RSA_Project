{
 "cells": [
  {
   "cell_type": "code",
   "execution_count": 10,
   "id": "fd923549",
   "metadata": {},
   "outputs": [],
   "source": [
    "import math\n",
    "import random\n",
    " \n",
    "\n",
    "# Generate prime numbers\n",
    "def generate_primes(nbits):\n",
    "    while True:\n",
    "        p = random.getrandbits(nbits)\n",
    "        if is_prime(p):\n",
    "            return p \n",
    "        \n",
    "# Check if prime for prime number generation\n",
    "def is_prime(n):\n",
    "    if n == 2:\n",
    "        return True\n",
    "    if n % 2 == 0 or n == 1:\n",
    "        return False\n",
    "    s = 0\n",
    "    d = n - 1\n",
    "    while d % 2 == 0:\n",
    "        s += 1\n",
    "        d //= 2\n",
    "    for _ in range(10):\n",
    "        a = random.randint(2, n - 2)\n",
    "        x = pow(a, d, n)\n",
    "        if x == 1 or x == n - 1:\n",
    "            continue\n",
    "        for _ in range(s - 1):\n",
    "            x = pow(x, 2, n)\n",
    "            if x == n - 1:\n",
    "                break\n",
    "        else:\n",
    "            return False\n",
    "    return True\n",
    "\n",
    "\n",
    "# Compute greatest common divisor\n",
    "\n",
    "def gcd(a, b):\n",
    "    while b != 0:\n",
    "        a, b = b, a % b\n",
    "    return a\n",
    "\n",
    " \n",
    "\n",
    "# Other option for defining public key\n",
    "def pubKeyGen(p, q):\n",
    "    #define phi with (p,q)\n",
    "    phi = (p-1)*(q-1)\n",
    "    # Calculate/return a value for e (public key)\n",
    "    e = 2\n",
    "    while (e < phi):\n",
    "        if(gcd(e, phi) == 1):\n",
    "            break\n",
    "        else:\n",
    "            e=e+1\n",
    "    return e"
   ]
  },
  {
   "cell_type": "code",
   "execution_count": 11,
   "id": "83540177",
   "metadata": {},
   "outputs": [],
   "source": [
    "# Generate RSA key pair\n",
    "\n",
    "def generate_key_pair(nbits):\n",
    "    p = generate_primes(nbits // 2)\n",
    "    q = generate_primes(nbits // 2)\n",
    "    n = p * q\n",
    "    phi = (p - 1) * (q - 1)\n",
    "    #found another function for finding public key -> pubKeyGen()\n",
    "    e = pubKeyGen(p,q)\n",
    "    d = pow(e, -1, phi)\n",
    "    return ((e, n), (d, n))"
   ]
  },
  {
   "cell_type": "code",
   "execution_count": 12,
   "id": "a345d210",
   "metadata": {},
   "outputs": [],
   "source": [
    "# Encrypt data using public key\n",
    "\n",
    "def encrypt(message, public_key):\n",
    "    e, n = public_key\n",
    "    m = int.from_bytes(message, 'big')\n",
    "    c = pow(m, e, n)\n",
    "    return c.to_bytes((c.bit_length() + 7) // 8, 'big')\n",
    "\n",
    " \n",
    "\n",
    "# Decrypt data using private key\n",
    "\n",
    "def decrypt(ciphertext, private_key):\n",
    "    d, n = private_key\n",
    "    c = int.from_bytes(ciphertext, 'big')\n",
    "    m = pow(c, d, n)\n",
    "    return m.to_bytes((m.bit_length() + 7) // 8, 'big')"
   ]
  },
  {
   "cell_type": "markdown",
   "id": "6f19c366",
   "metadata": {},
   "source": [
    "## Example Test Case"
   ]
  },
  {
   "cell_type": "code",
   "execution_count": 13,
   "id": "54c10536",
   "metadata": {},
   "outputs": [
    {
     "name": "stdout",
     "output_type": "stream",
     "text": [
      "Ciphertext: b'v\\x89\\xcb\\x14bV\\xa3\\xdc\\xf4\\xb9]\\xf8P\\xaa\\xe6]\\xd9\\x824?Fa\\xc9o\\x1d-\\x9d\\x11\\xf1%\\x83\\x9fw\\x00\\x8b\\xc6\\x81\\xd7P4\\xe4K\\xc7|\\xf8\\x021\\xb0\\xceP\\x1c\\xa7\\xe4\\x00'\n",
      "Plaintext: Hello World\n",
      "Duration:  0.11472344398498535\n"
     ]
    }
   ],
   "source": [
    "# Example usage\n",
    "import time\n",
    "message = b\"Hello World\"\n",
    "start = time.time()\n",
    "public_key, private_key = generate_key_pair(1024)\n",
    "ciphertext = encrypt(message, public_key)\n",
    "plaintext = decrypt(ciphertext, private_key)\n",
    "end = time.time()\n",
    "print(\"Ciphertext:\", ciphertext)\n",
    "print(\"Plaintext:\", plaintext.decode('utf-8'))\n",
    "print(\"Duration: \", end - start)"
   ]
  },
  {
   "cell_type": "code",
   "execution_count": null,
   "id": "aef77879",
   "metadata": {},
   "outputs": [],
   "source": []
  }
 ],
 "metadata": {
  "kernelspec": {
   "display_name": "Python 3 (ipykernel)",
   "language": "python",
   "name": "python3"
  },
  "language_info": {
   "codemirror_mode": {
    "name": "ipython",
    "version": 3
   },
   "file_extension": ".py",
   "mimetype": "text/x-python",
   "name": "python",
   "nbconvert_exporter": "python",
   "pygments_lexer": "ipython3",
   "version": "3.10.11"
  }
 },
 "nbformat": 4,
 "nbformat_minor": 5
}
